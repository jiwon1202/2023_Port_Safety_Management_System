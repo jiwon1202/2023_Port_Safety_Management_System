{
 "cells": [
  {
   "cell_type": "code",
   "execution_count": 4,
   "id": "c7911fde",
   "metadata": {},
   "outputs": [
    {
     "name": "stderr",
     "output_type": "stream",
     "text": [
      "\n",
      "0: 384x640 1 Person, 86.8ms\n",
      "Speed: 3.0ms preprocess, 86.8ms inference, 1.0ms postprocess per image at shape (1, 3, 384, 640)\n",
      "\n",
      "0: 384x640 (no detections), 80.0ms\n",
      "Speed: 4.0ms preprocess, 80.0ms inference, 0.0ms postprocess per image at shape (1, 3, 384, 640)\n"
     ]
    },
    {
     "ename": "error",
     "evalue": "OpenCV(4.8.0) D:\\a\\opencv-python\\opencv-python\\opencv\\modules\\highgui\\src\\window.cpp:1272: error: (-2:Unspecified error) The function is not implemented. Rebuild the library with Windows, GTK+ 2.x or Cocoa support. If you are on Ubuntu or Debian, install libgtk2.0-dev and pkg-config, then re-run cmake or configure script in function 'cvShowImage'\n",
     "output_type": "error",
     "traceback": [
      "\u001b[1;31m---------------------------------------------------------------------------\u001b[0m",
      "\u001b[1;31merror\u001b[0m                                     Traceback (most recent call last)",
      "Cell \u001b[1;32mIn[4], line 59\u001b[0m\n\u001b[0;32m     57\u001b[0m     \u001b[39melse\u001b[39;00m:\n\u001b[0;32m     58\u001b[0m         flag\u001b[39m=\u001b[39m\u001b[39m0\u001b[39m\n\u001b[1;32m---> 59\u001b[0m cv2\u001b[39m.\u001b[39;49mimshow(\u001b[39m\"\u001b[39;49m\u001b[39mframe\u001b[39;49m\u001b[39m\"\u001b[39;49m, frame) \u001b[39m# 삭제해도 됨\u001b[39;00m\n\u001b[0;32m     61\u001b[0m \u001b[39mif\u001b[39;00m cv2\u001b[39m.\u001b[39mwaitKey(\u001b[39m10\u001b[39m) \u001b[39m==\u001b[39m \u001b[39m27\u001b[39m: \u001b[39m# 삭제해도 됨\u001b[39;00m\n\u001b[0;32m     62\u001b[0m     \u001b[39mbreak\u001b[39;00m \u001b[39m# 삭제해도 됨\u001b[39;00m\n",
      "File \u001b[1;32mc:\\Users\\sjmama\\AppData\\Local\\Programs\\Python\\Python311\\Lib\\site-packages\\ultralytics\\utils\\patches.py:54\u001b[0m, in \u001b[0;36mimshow\u001b[1;34m(winname, mat)\u001b[0m\n\u001b[0;32m     47\u001b[0m \u001b[39mdef\u001b[39;00m \u001b[39mimshow\u001b[39m(winname: \u001b[39mstr\u001b[39m, mat: np\u001b[39m.\u001b[39mndarray):\n\u001b[0;32m     48\u001b[0m \u001b[39m    \u001b[39m\u001b[39m\"\"\"Displays an image in the specified window.\u001b[39;00m\n\u001b[0;32m     49\u001b[0m \n\u001b[0;32m     50\u001b[0m \u001b[39m    Args:\u001b[39;00m\n\u001b[0;32m     51\u001b[0m \u001b[39m        winname (str): Name of the window.\u001b[39;00m\n\u001b[0;32m     52\u001b[0m \u001b[39m        mat (np.ndarray): Image to be shown.\u001b[39;00m\n\u001b[0;32m     53\u001b[0m \u001b[39m    \"\"\"\u001b[39;00m\n\u001b[1;32m---> 54\u001b[0m     _imshow(winname\u001b[39m.\u001b[39;49mencode(\u001b[39m'\u001b[39;49m\u001b[39municode_escape\u001b[39;49m\u001b[39m'\u001b[39;49m)\u001b[39m.\u001b[39;49mdecode(), mat)\n",
      "\u001b[1;31merror\u001b[0m: OpenCV(4.8.0) D:\\a\\opencv-python\\opencv-python\\opencv\\modules\\highgui\\src\\window.cpp:1272: error: (-2:Unspecified error) The function is not implemented. Rebuild the library with Windows, GTK+ 2.x or Cocoa support. If you are on Ubuntu or Debian, install libgtk2.0-dev and pkg-config, then re-run cmake or configure script in function 'cvShowImage'\n"
     ]
    }
   ],
   "source": [
    "from ultralytics import YOLO\n",
    "import cv2\n",
    "import numpy as np\n",
    "from multiprocessing import shared_memory\n",
    "\n",
    "flag=np.ndarray([0])\n",
    "flagshm= shared_memory.SharedMemory(name= 'wnsm_601d9d10')#flag 주소\n",
    "flag = np.ndarray(flag.shape, dtype=flag.dtype, buffer=flagshm.buf)\n",
    "\n",
    "\n",
    "frameshm= shared_memory.SharedMemory(name= 'wnsm_5c23f5ec')#frame주소\n",
    "cap = cv2.VideoCapture('./2023-09-05#17h42m12s.mp4')\n",
    "ret, frame = cap.read() #동영상 정보 읽어오기 -read\n",
    "frame = np.ndarray(frame.shape, dtype=frame.dtype, buffer=frameshm.buf)\n",
    "\n",
    "def getIntersectionArea(boxA, boxB):\n",
    "    xA = max(boxA[0], boxB[0])\n",
    "    yA = max(boxA[1], boxB[1])\n",
    "    xB = min(boxA[2], boxB[2])\n",
    "    yB = min(boxA[3], boxB[3])\n",
    "\n",
    "    return (xB - xA + 1) * (yB - yA + 1)\n",
    "\n",
    "cap = cv2.VideoCapture(0) # 삭제해도 됨\n",
    "coord_list = []\n",
    "\n",
    "person_model = YOLO(\"./weights/person.pt\")\n",
    "door_model = YOLO(\"./weights/door.pt\")\n",
    "\n",
    "while True:\n",
    "    #ret, frame = cap.read() # 여기서 프레임을 받아옴\n",
    "    if ret:\n",
    "        frame = cv2.flip(frame, 1) # 삭제해도 됨\n",
    "        coord_list = []\n",
    "        for coord in person_model.predict(frame)[0].boxes:\n",
    "            x, y, w, h = coord.xywh[0][:]\n",
    "            xmin, ymin, xmax, ymax = int(x-w/2), int(y-h/2), int(x+w/2), int(y+h/2)\n",
    "            cv2.rectangle(frame, (xmin, ymin, xmax, ymax), (0, 0, 255), 4) # 삭제해도 됨\n",
    "            coord_list.append([xmin, ymin, xmax, ymax])\n",
    "            break\n",
    "            \n",
    "        for coord in door_model.predict(frame)[0].boxes:\n",
    "            x, y, w, h = coord.xywh[0][:]\n",
    "            xmin, ymin, xmax, ymax = int(x-w/2), int(y-h/2), int(x+w/2), int(y+h/2)\n",
    "            cv2.rectangle(frame, (xmin, ymin), (xmax, ymax), (255, 0, 0), 4) # 삭제해도 됨\n",
    "            coord_list.append([xmin, ymin, xmax, ymax])\n",
    "        \n",
    "        distance = 0\n",
    "        for i in range(len(coord_list) - 1): \n",
    "            for j in range(i+1, len(coord_list)):\n",
    "                area = getIntersectionArea(coord_list[i], coord_list[j])\n",
    "            if area > 0:\n",
    "                # 여기서 신호 보내면 됨\n",
    "                flag=2\n",
    "                cv2.putText(frame, \"WARNING!!\", (50, 100), 1, 3, (0, 0, 255), 5, cv2.LINE_AA) # 삭제해도 됨\n",
    "                break\n",
    "            else:\n",
    "                flag=0\n",
    "        cv2.imshow(\"frame\", frame) # 삭제해도 됨\n",
    "    \n",
    "        if cv2.waitKey(10) == 27: # 삭제해도 됨\n",
    "            break # 삭제해도 됨\n",
    "    \n",
    "cap.release() # 삭제해도 됨\n",
    "cv2.destroyAllWindows() # 삭제해도 됨"
   ]
  },
  {
   "cell_type": "code",
   "execution_count": null,
   "id": "3a3b23ce",
   "metadata": {},
   "outputs": [],
   "source": [
    "cap.release()\n",
    "cv2.destroyAllWindows()"
   ]
  },
  {
   "cell_type": "code",
   "execution_count": null,
   "id": "743d86d5",
   "metadata": {},
   "outputs": [],
   "source": []
  }
 ],
 "metadata": {
  "kernelspec": {
   "display_name": "Python 3 (ipykernel)",
   "language": "python",
   "name": "python3"
  },
  "language_info": {
   "codemirror_mode": {
    "name": "ipython",
    "version": 3
   },
   "file_extension": ".py",
   "mimetype": "text/x-python",
   "name": "python",
   "nbconvert_exporter": "python",
   "pygments_lexer": "ipython3",
   "version": "3.11.2"
  }
 },
 "nbformat": 4,
 "nbformat_minor": 5
}
