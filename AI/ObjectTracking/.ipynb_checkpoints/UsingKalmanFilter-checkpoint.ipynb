{
 "cells": [
  {
   "cell_type": "code",
   "execution_count": null,
   "id": "acab250e",
   "metadata": {},
   "outputs": [],
   "source": [
    "cap = cv2.VideoCapture(0)\n",
    "\n",
    "_, bg = cap.read()\n",
    "\n",
    "frame = cv2.flip(bg, 1) # 좌우 대칭\n",
    "\n",
    "cv2.imwrite('bg.jpg', bg) # 사진 저장\n",
    "    \n",
    "cap.release()\n",
    "cv2.destroyAllWindows()"
   ]
  },
  {
   "cell_type": "code",
   "execution_count": 3,
   "id": "10ad9e67",
   "metadata": {
    "scrolled": true
   },
   "outputs": [
    {
     "name": "stderr",
     "output_type": "stream",
     "text": [
      "\n",
      "0: 480x640 1 person, 1 banana, 1 tv, 1 clock, 320.1ms\n",
      "Speed: 3.0ms preprocess, 320.1ms inference, 1.0ms postprocess per image at shape (1, 3, 640, 640)\n",
      "\n",
      "0: 480x640 1 person, 1 tv, 1 clock, 363.0ms\n",
      "Speed: 2.0ms preprocess, 363.0ms inference, 2.0ms postprocess per image at shape (1, 3, 640, 640)\n",
      "\n",
      "0: 480x640 1 person, 1 tv, 2 keyboards, 1 clock, 325.4ms\n",
      "Speed: 3.0ms preprocess, 325.4ms inference, 1.0ms postprocess per image at shape (1, 3, 640, 640)\n",
      "\n",
      "0: 480x640 1 person, 1 tv, 1 clock, 299.9ms\n",
      "Speed: 1.0ms preprocess, 299.9ms inference, 1.0ms postprocess per image at shape (1, 3, 640, 640)\n",
      "\n",
      "0: 480x640 1 person, 1 tv, 2 keyboards, 1 clock, 301.8ms\n",
      "Speed: 1.0ms preprocess, 301.8ms inference, 2.0ms postprocess per image at shape (1, 3, 640, 640)\n",
      "\n",
      "0: 480x640 1 person, 2 keyboards, 1 clock, 301.8ms\n",
      "Speed: 3.0ms preprocess, 301.8ms inference, 1.0ms postprocess per image at shape (1, 3, 640, 640)\n",
      "\n",
      "0: 480x640 1 person, 1 tv, 1 keyboard, 2 clocks, 380.8ms\n",
      "Speed: 2.0ms preprocess, 380.8ms inference, 1.0ms postprocess per image at shape (1, 3, 640, 640)\n",
      "\n",
      "0: 480x640 1 person, 1 tv, 1 keyboard, 1 clock, 338.1ms\n",
      "Speed: 2.0ms preprocess, 338.1ms inference, 1.0ms postprocess per image at shape (1, 3, 640, 640)\n",
      "\n",
      "0: 480x640 1 person, 1 tv, 1 clock, 401.9ms\n",
      "Speed: 1.0ms preprocess, 401.9ms inference, 1.0ms postprocess per image at shape (1, 3, 640, 640)\n",
      "\n",
      "0: 480x640 1 person, 1 dining table, 1 tv, 1 keyboard, 1 clock, 424.9ms\n",
      "Speed: 2.0ms preprocess, 424.9ms inference, 2.0ms postprocess per image at shape (1, 3, 640, 640)\n",
      "\n",
      "0: 480x640 1 person, 1 dining table, 1 tv, 1 mouse, 1 keyboard, 1 book, 1 clock, 414.9ms\n",
      "Speed: 1.0ms preprocess, 414.9ms inference, 1.0ms postprocess per image at shape (1, 3, 640, 640)\n",
      "\n",
      "0: 480x640 1 person, 1 dining table, 1 tv, 1 clock, 421.9ms\n",
      "Speed: 2.0ms preprocess, 421.9ms inference, 2.0ms postprocess per image at shape (1, 3, 640, 640)\n"
     ]
    }
   ],
   "source": [
    "cap = cv2.VideoCapture(0)\n",
    "coord_list = []\n",
    "while True:\n",
    "    ret, frame = cap.read() # 사진 촬영\n",
    "    if ret:\n",
    "        frame = cv2.flip(frame, 1) # 좌우 대칭\n",
    "    \n",
    "        result = model.predict(frame)[0]\n",
    "    \n",
    "        clock_result = result.boxes[result.boxes.cls == 74]\n",
    "    \n",
    "        if len(clock_result) > 0:\n",
    "            data = clock_result[0].xywh[0]\n",
    "            x = int(data[0]); y = int(data[1])\n",
    "            coord_list.append([x, y])\n",
    "            cv2.circle(frame, (x, y), 10, (0, 0, 255), -1)\n",
    "    \n",
    "        cv2.imshow(\"frame\", frame)\n",
    "    \n",
    "        if cv2.waitKey(10) == 27:\n",
    "            break\n",
    "    \n",
    "cap.release()\n",
    "cv2.destroyAllWindows()"
   ]
  },
  {
   "cell_type": "code",
   "execution_count": 1,
   "id": "1a9f7fc4",
   "metadata": {},
   "outputs": [
    {
     "name": "stderr",
     "output_type": "stream",
     "text": [
      "Downloading https:\\github.com\\ultralytics\\assets\\releases\\download\\v0.0.0\\yolov8m.pt to yolov8m.pt...\n",
      "100%|█████████████████████████████████████████████████████████████████████████████| 49.7M/49.7M [00:09<00:00, 5.33MB/s]\n"
     ]
    }
   ],
   "source": [
    "from ultralytics import YOLO\n",
    "model = YOLO(\"yolov8m.pt\")\n",
    "import cv2\n",
    "import numpy as np"
   ]
  },
  {
   "cell_type": "code",
   "execution_count": 2,
   "id": "c0459614",
   "metadata": {},
   "outputs": [],
   "source": [
    "bg = cv2.imread(\"bg.jpg\")"
   ]
  },
  {
   "cell_type": "code",
   "execution_count": 3,
   "id": "767ebd70",
   "metadata": {},
   "outputs": [],
   "source": [
    "coord_list = [[87, 217],\n",
    " [108, 223],\n",
    " [114, 225],\n",
    " [137, 221],\n",
    " [163, 216],\n",
    " [179, 213],\n",
    " [196, 213],\n",
    " [213, 206],\n",
    " [245, 199],\n",
    " [279, 198],\n",
    " [314, 206],\n",
    " [352, 196]]"
   ]
  },
  {
   "cell_type": "code",
   "execution_count": 4,
   "id": "95606445",
   "metadata": {},
   "outputs": [],
   "source": [
    "p_list = coord_list"
   ]
  },
  {
   "cell_type": "code",
   "execution_count": 5,
   "id": "50fd4016",
   "metadata": {},
   "outputs": [],
   "source": [
    "bg_copy = bg.copy()\n",
    "for p in p_list:\n",
    "    cv2.circle(bg_copy, (p[0], p[1]), 10, (0, 0, 255), -1)"
   ]
  },
  {
   "cell_type": "code",
   "execution_count": 6,
   "id": "b7e2b02b",
   "metadata": {},
   "outputs": [],
   "source": [
    "cv2.imshow(\"bg_copy\", bg_copy)\n",
    "\n",
    "cv2.waitKey(0)\n",
    "cv2.destroyAllWindows()"
   ]
  },
  {
   "cell_type": "code",
   "execution_count": 8,
   "id": "2abffacb",
   "metadata": {},
   "outputs": [],
   "source": [
    "# Input parameters.\n",
    "n_samples = len(coord_list)\n",
    "dt = 0.01"
   ]
  },
  {
   "cell_type": "code",
   "execution_count": 9,
   "id": "89c35fe0",
   "metadata": {},
   "outputs": [],
   "source": [
    "A = np.array([[ 1, dt,  0,  0],\n",
    "              [ 0,  1,  0,  0],\n",
    "              [ 0,  0,  1, dt],\n",
    "              [ 0,  0,  0,  1]])\n",
    "H = np.array([[ 1,  0,  0,  0],\n",
    "              [ 0,  0,  1,  0]])\n",
    "Q = 2.0 * np.eye(4)\n",
    "R = np.array([[50,  0],\n",
    "              [ 0, 50]])\n",
    "\n",
    "# Initialization for estimation.\n",
    "x_0 = np.array([0, 0, 0, 0])  # (x-pos, x-vel, y-pos, y-vel) by definition in book.\n",
    "P_0 = 100 * np.eye(4)"
   ]
  },
  {
   "cell_type": "code",
   "execution_count": 16,
   "id": "f813abfd",
   "metadata": {},
   "outputs": [],
   "source": [
    "def kalman_filter(z_meas, x_esti, P):\n",
    "    \"\"\"Kalman Filter Algorithm.\"\"\"\n",
    "    # (1) Prediction.\n",
    "    x_pred = A @ x_esti\n",
    "    P_pred = A @ P @ A.T + Q\n",
    "\n",
    "    # (2) Kalman Gain.\n",
    "    K = P_pred @ H.T @ inv(H @ P_pred @ H.T + R)\n",
    "\n",
    "    # (3) Estimation.\n",
    "    x_esti = x_pred + K @ (z_meas - H @ x_pred)\n",
    "\n",
    "    # (4) Error Covariance.\n",
    "    P = P_pred - K @ H @ P_pred\n",
    "\n",
    "    return x_esti, P"
   ]
  },
  {
   "cell_type": "code",
   "execution_count": 12,
   "id": "f3b7a332",
   "metadata": {},
   "outputs": [],
   "source": [
    "xpos_meas_save = np.zeros(n_samples)\n",
    "ypos_meas_save = np.zeros(n_samples)\n",
    "xpos_esti_save = np.zeros(n_samples)\n",
    "ypos_esti_save = np.zeros(n_samples)"
   ]
  },
  {
   "cell_type": "code",
   "execution_count": 26,
   "id": "6b44cd04",
   "metadata": {
    "collapsed": true
   },
   "outputs": [
    {
     "name": "stdout",
     "output_type": "stream",
     "text": [
      "[149, 233] [0 0 0 0] [[        100           0           0           0]\n",
      " [          0         100           0           0]\n",
      " [          0           0         100           0]\n",
      " [          0           0           0         100]]\n",
      "[150, 229] [0 0 0 0] [[        100           0           0           0]\n",
      " [          0         100           0           0]\n",
      " [          0           0         100           0]\n",
      " [          0           0           0         100]]\n",
      "[157, 232] [0 0 0 0] [[        100           0           0           0]\n",
      " [          0         100           0           0]\n",
      " [          0           0         100           0]\n",
      " [          0           0           0         100]]\n",
      "[172, 229] [0 0 0 0] [[        100           0           0           0]\n",
      " [          0         100           0           0]\n",
      " [          0           0         100           0]\n",
      " [          0           0           0         100]]\n",
      "[193, 224] [0 0 0 0] [[        100           0           0           0]\n",
      " [          0         100           0           0]\n",
      " [          0           0         100           0]\n",
      " [          0           0           0         100]]\n",
      "[216, 213] [0 0 0 0] [[        100           0           0           0]\n",
      " [          0         100           0           0]\n",
      " [          0           0         100           0]\n",
      " [          0           0           0         100]]\n",
      "[234, 212] [0 0 0 0] [[        100           0           0           0]\n",
      " [          0         100           0           0]\n",
      " [          0           0         100           0]\n",
      " [          0           0           0         100]]\n",
      "[252, 212] [0 0 0 0] [[        100           0           0           0]\n",
      " [          0         100           0           0]\n",
      " [          0           0         100           0]\n",
      " [          0           0           0         100]]\n",
      "[267, 217] [0 0 0 0] [[        100           0           0           0]\n",
      " [          0         100           0           0]\n",
      " [          0           0         100           0]\n",
      " [          0           0           0         100]]\n",
      "[289, 213] [0 0 0 0] [[        100           0           0           0]\n",
      " [          0         100           0           0]\n",
      " [          0           0         100           0]\n",
      " [          0           0           0         100]]\n",
      "[302, 211] [0 0 0 0] [[        100           0           0           0]\n",
      " [          0         100           0           0]\n",
      " [          0           0         100           0]\n",
      " [          0           0           0         100]]\n",
      "[309, 216] [0 0 0 0] [[        100           0           0           0]\n",
      " [          0         100           0           0]\n",
      " [          0           0         100           0]\n",
      " [          0           0           0         100]]\n",
      "[325, 212] [0 0 0 0] [[        100           0           0           0]\n",
      " [          0         100           0           0]\n",
      " [          0           0         100           0]\n",
      " [          0           0           0         100]]\n",
      "[343, 211] [0 0 0 0] [[        100           0           0           0]\n",
      " [          0         100           0           0]\n",
      " [          0           0         100           0]\n",
      " [          0           0           0         100]]\n",
      "[370, 211] [0 0 0 0] [[        100           0           0           0]\n",
      " [          0         100           0           0]\n",
      " [          0           0         100           0]\n",
      " [          0           0           0         100]]\n",
      "[392, 214] [0 0 0 0] [[        100           0           0           0]\n",
      " [          0         100           0           0]\n",
      " [          0           0         100           0]\n",
      " [          0           0           0         100]]\n"
     ]
    }
   ],
   "source": [
    "x_esti, P = None, None\n",
    "for i in range(n_samples):\n",
    "    z_meas = p_list[i]\n",
    "    if i == 0:\n",
    "        x_esti, P = x_0, P_0\n",
    "    print(z_meas, x_esti, P)\n",
    "#     else:\n",
    "#         x_esti, P = kalman_filter(z_meas, x_esti, P)\n",
    "    \n",
    "    xpos_meas_save[i] = z_meas[0]\n",
    "    ypos_meas_save[i] = z_meas[1]\n",
    "    xpos_esti_save[i] = x_esti[0]\n",
    "    ypos_esti_save[i] = x_esti[2]"
   ]
  },
  {
   "cell_type": "code",
   "execution_count": 10,
   "id": "adf41063",
   "metadata": {},
   "outputs": [
    {
     "data": {
      "text/plain": [
       "array([          0,           0,           0,           0])"
      ]
     },
     "execution_count": 10,
     "metadata": {},
     "output_type": "execute_result"
    }
   ],
   "source": [
    "x_pred = A @ x_0\n",
    "x_pred"
   ]
  },
  {
   "cell_type": "code",
   "execution_count": null,
   "id": "50015a63",
   "metadata": {},
   "outputs": [],
   "source": [
    "P_pred = A @ P_0 @ A.T + Q\n",
    "P_pred"
   ]
  },
  {
   "cell_type": "code",
   "execution_count": 11,
   "id": "2d34becb",
   "metadata": {},
   "outputs": [
    {
     "data": {
      "text/plain": [
       "array([[          1,        0.01,           0,           0],\n",
       "       [          0,           1,           0,           0],\n",
       "       [          0,           0,           1,        0.01],\n",
       "       [          0,           0,           0,           1]])"
      ]
     },
     "execution_count": 11,
     "metadata": {},
     "output_type": "execute_result"
    }
   ],
   "source": [
    "A"
   ]
  },
  {
   "cell_type": "code",
   "execution_count": null,
   "id": "ba5a8aaf",
   "metadata": {},
   "outputs": [],
   "source": [
    "P_0 @ A.T"
   ]
  },
  {
   "cell_type": "code",
   "execution_count": 9,
   "id": "bc901d23",
   "metadata": {},
   "outputs": [
    {
     "data": {
      "text/plain": [
       "array([[          1,           0,           0,           0],\n",
       "       [       0.01,           1,           0,           0],\n",
       "       [          0,           0,           1,           0],\n",
       "       [          0,           0,        0.01,           1]])"
      ]
     },
     "execution_count": 9,
     "metadata": {},
     "output_type": "execute_result"
    }
   ],
   "source": [
    "A.T"
   ]
  },
  {
   "cell_type": "code",
   "execution_count": 10,
   "id": "a7dce705",
   "metadata": {},
   "outputs": [
    {
     "data": {
      "text/plain": [
       "array([[          2,           0,           0,           0],\n",
       "       [          0,           2,           0,           0],\n",
       "       [          0,           0,           2,           0],\n",
       "       [          0,           0,           0,           2]])"
      ]
     },
     "execution_count": 10,
     "metadata": {},
     "output_type": "execute_result"
    }
   ],
   "source": [
    "Q"
   ]
  },
  {
   "cell_type": "code",
   "execution_count": null,
   "id": "435d5426",
   "metadata": {},
   "outputs": [],
   "source": []
  }
 ],
 "metadata": {
  "kernelspec": {
   "display_name": "Python 3",
   "language": "python",
   "name": "python3"
  },
  "language_info": {
   "codemirror_mode": {
    "name": "ipython",
    "version": 3
   },
   "file_extension": ".py",
   "mimetype": "text/x-python",
   "name": "python",
   "nbconvert_exporter": "python",
   "pygments_lexer": "ipython3",
   "version": "3.8.8"
  }
 },
 "nbformat": 4,
 "nbformat_minor": 5
}
