{
 "cells": [
  {
   "cell_type": "markdown",
   "id": "1f449054",
   "metadata": {},
   "source": [
    "## Yaml 파일 생성"
   ]
  },
  {
   "cell_type": "code",
   "execution_count": 1,
   "id": "a913afa4",
   "metadata": {},
   "outputs": [],
   "source": [
    "import yaml"
   ]
  },
  {
   "cell_type": "code",
   "execution_count": 5,
   "id": "46f060f5",
   "metadata": {},
   "outputs": [],
   "source": [
    "data = {'train' : 'E/DataSets/01.데이터/1.Training/images',\n",
    "       'val' : 'E:/DataSets/01.데이터/2.Validation/images',\n",
    "       'names' : ['Container', 'YT Chassis', 'Yard_Header', 'TwistLock'],\n",
    "       'nc' : 4}"
   ]
  },
  {
   "cell_type": "code",
   "execution_count": 8,
   "id": "87214756",
   "metadata": {},
   "outputs": [
    {
     "data": {
      "text/plain": [
       "'C:\\\\Users\\\\ccap1\\\\Desktop\\\\Project\\\\2023_Port_Safety_Management_System\\\\AI\\\\ObjectDetection'"
      ]
     },
     "execution_count": 8,
     "metadata": {},
     "output_type": "execute_result"
    }
   ],
   "source": [
    "pwd"
   ]
  },
  {
   "cell_type": "code",
   "execution_count": 10,
   "id": "15cb1e47",
   "metadata": {},
   "outputs": [],
   "source": [
    "f = open('E:/DataSets/01.데이터/Harbor_Data.yaml', 'w')\n",
    "yaml.dump(data, f)\n",
    "f.close()"
   ]
  },
  {
   "cell_type": "code",
   "execution_count": 12,
   "id": "0ea173ab",
   "metadata": {},
   "outputs": [
    {
     "data": {
      "text/plain": [
       "{'names': ['Container', 'YT Chassis', 'Yard_Header', 'TwistLock'],\n",
       " 'nc': 4,\n",
       " 'train': 'E/DataSets/01.데이터/1.Training/images',\n",
       " 'val': 'E:/DataSets/01.데이터/2.Validation/images'}"
      ]
     },
     "metadata": {},
     "output_type": "display_data"
    }
   ],
   "source": [
    "with open('E:/DataSets/01.데이터/Harbor_Data.yaml', 'r') as f:\n",
    "    data_yaml = yaml.safe_load(f)\n",
    "    display(data_yaml)"
   ]
  },
  {
   "cell_type": "code",
   "execution_count": null,
   "id": "fce8eddc",
   "metadata": {},
   "outputs": [],
   "source": []
  }
 ],
 "metadata": {
  "kernelspec": {
   "display_name": "Python 3 (ipykernel)",
   "language": "python",
   "name": "python3"
  },
  "language_info": {
   "codemirror_mode": {
    "name": "ipython",
    "version": 3
   },
   "file_extension": ".py",
   "mimetype": "text/x-python",
   "name": "python",
   "nbconvert_exporter": "python",
   "pygments_lexer": "ipython3",
   "version": "3.8.16"
  }
 },
 "nbformat": 4,
 "nbformat_minor": 5
}
