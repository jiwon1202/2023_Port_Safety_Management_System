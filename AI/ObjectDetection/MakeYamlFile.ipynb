{
 "cells": [
  {
   "cell_type": "markdown",
   "id": "1f449054",
   "metadata": {},
   "source": [
    "## Yaml 파일 생성"
   ]
  },
  {
   "cell_type": "code",
   "execution_count": 4,
   "id": "a913afa4",
   "metadata": {},
   "outputs": [],
   "source": [
    "import yaml"
   ]
  },
  {
   "cell_type": "code",
   "execution_count": 16,
   "id": "46f060f5",
   "metadata": {},
   "outputs": [],
   "source": [
    "data = {'train' : '/DataSets/Harbor_Data/train/images',\n",
    "       'val' : '/DataSets/Harbor_Data/valid/images',\n",
    "       'names' : ['Container', 'YT Chassis', 'Yard_Header', 'TwistLock'],\n",
    "       'nc' : 4}"
   ]
  },
  {
   "cell_type": "code",
   "execution_count": 17,
   "id": "87214756",
   "metadata": {},
   "outputs": [
    {
     "data": {
      "text/plain": [
       "'C:\\\\Users\\\\ccap1\\\\Desktop\\\\Project\\\\2023_Port_Safety_Management_System\\\\AI\\\\ObjectDetection'"
      ]
     },
     "execution_count": 17,
     "metadata": {},
     "output_type": "execute_result"
    }
   ],
   "source": [
    "pwd"
   ]
  },
  {
   "cell_type": "code",
   "execution_count": 18,
   "id": "15cb1e47",
   "metadata": {},
   "outputs": [],
   "source": [
    "f = open('E:/DataSets/Harbor_Data/Harbor_Data.yaml', 'w')\n",
    "yaml.dump(data, f)\n",
    "f.close()"
   ]
  },
  {
   "cell_type": "code",
   "execution_count": 19,
   "id": "0ea173ab",
   "metadata": {
    "scrolled": true
   },
   "outputs": [
    {
     "data": {
      "text/plain": [
       "{'names': ['Container', 'YT Chassis', 'Yard_Header', 'TwistLock'],\n",
       " 'nc': 4,\n",
       " 'train': '/DataSets/Harbor_Data/train/images',\n",
       " 'val': '/DataSets/Harbor_Data/valid/images'}"
      ]
     },
     "metadata": {},
     "output_type": "display_data"
    }
   ],
   "source": [
    "with open('E:/DataSets/Harbor_Data/Harbor_Data.yaml', 'r') as f:\n",
    "    data_yaml = yaml.safe_load(f)\n",
    "    display(data_yaml)"
   ]
  }
 ],
 "metadata": {
  "kernelspec": {
   "display_name": "Python 3 (ipykernel)",
   "language": "python",
   "name": "python3"
  },
  "language_info": {
   "codemirror_mode": {
    "name": "ipython",
    "version": 3
   },
   "file_extension": ".py",
   "mimetype": "text/x-python",
   "name": "python",
   "nbconvert_exporter": "python",
   "pygments_lexer": "ipython3",
   "version": "3.8.16"
  }
 },
 "nbformat": 4,
 "nbformat_minor": 5
}
